{
 "cells": [
  {
   "cell_type": "code",
   "execution_count": 13,
   "id": "b69a69d3",
   "metadata": {},
   "outputs": [],
   "source": [
    "#pip install -qU langchain-openai"
   ]
  },
  {
   "cell_type": "code",
   "execution_count": 14,
   "id": "4e4a39aa",
   "metadata": {},
   "outputs": [],
   "source": [
    "#pip install -U langchain-community faiss-cpu\n"
   ]
  },
  {
   "cell_type": "code",
   "execution_count": 15,
   "id": "e5d3871c",
   "metadata": {},
   "outputs": [],
   "source": [
    "import os\n",
    "from langchain_openai import ChatOpenAI\n",
    "from langchain.prompts import PromptTemplate\n",
    "from langchain.memory import ConversationBufferMemory\n",
    "from langchain.chains import RetrievalQA, LLMChain\n",
    "from langchain_openai import OpenAIEmbeddings\n",
    "from langchain_community.vectorstores import FAISS\n",
    "from langchain.tools import Tool\n",
    "from langchain.agents import AgentExecutor, AgentType, ConversationalChatAgent"
   ]
  },
  {
   "cell_type": "code",
   "execution_count": 16,
   "id": "cf35deda",
   "metadata": {},
   "outputs": [],
   "source": [
    "import os\n",
    "from dotenv import load_dotenv\n",
    "\n",
    "load_dotenv(\"OpenAl.env\")\n",
    "\n",
    "OPENAI_API_KEY = os.getenv(\"OPENAI_API_KEY\")\n",
    "\n",
    "llm = ChatOpenAI(model_name=\"gpt-3.5-turbo\", temperature=0, api_key=OPENAI_API_KEY)"
   ]
  },
  {
   "cell_type": "code",
   "execution_count": 17,
   "id": "b3280a8f",
   "metadata": {},
   "outputs": [],
   "source": [
    "path_pkl = 'my_faiss_index/index.pkl'\n",
    "path_faiss = 'my_faiss_index/index.faiss'\n",
    "faiss_path = os.path.join(\"my_faiss_index\")"
   ]
  },
  {
   "cell_type": "code",
   "execution_count": 18,
   "id": "579c0816",
   "metadata": {},
   "outputs": [],
   "source": [
    "\n",
    "# Create a prompt template with ALL required variables\n",
    "prompt_template = \"\"\"You are a helpful Medical assistant for question-answering tasks. Use the following pieces of retreived context\n",
    "     context to answer the user's question. \n",
    "\n",
    "    You have access to the following tools: {tool_names}\n",
    "    {tools}\n",
    "    \n",
    "    Chat History:\n",
    "    \n",
    "    {chat_history}\n",
    "\n",
    "    Use these appropriate tools to answer the user's question\n",
    "\n",
    "    Remember:\n",
    "    1. First consider if you need to use a tool or can answer directly\n",
    "    2. If you need specialized medical knowledge, use the MedicalKnowledgeBase tool\n",
    "    3. Format your response in a friendly, professional manner\n",
    "    4. If you don't know the answer, say so clearly rather than making up information\n",
    "\n",
    "Use the following format:\n",
    "\n",
    "Thought: The user is asking about {input}. \n",
    "Action: Call {tool_names} with the input {input}\n",
    "Action Input: {input}\n",
    "Observation: Here’s the result of the action.\n",
    "Thought: Based on this observation, I now know the final answer.\n",
    "Final Answer: {final_answer}\n",
    "\n",
    "\"\"\"\n",
    "\n",
    "prompt = PromptTemplate.from_template(prompt_template)"
   ]
  },
  {
   "cell_type": "code",
   "execution_count": 19,
   "id": "00ff9191",
   "metadata": {},
   "outputs": [],
   "source": [
    "memory = ConversationBufferMemory(\n",
    "    memory_key=\"chat_history\",\n",
    "    return_messages=True\n",
    ")"
   ]
  },
  {
   "cell_type": "code",
   "execution_count": 20,
   "id": "da74767e",
   "metadata": {},
   "outputs": [],
   "source": [
    "\n",
    "# Assuming your FAISS vector store is initialized\n",
    "embeddings = OpenAIEmbeddings()\n",
    "\n",
    "def vector_retrieval(query: str):\n",
    "    faiss_vectorstore = FAISS.load_local(faiss_path, embeddings, allow_dangerous_deserialization=True)\n",
    "    retriever = faiss_vectorstore.as_retriever(search_type=\"similarity\",search_kwargs={\"k\": 2})\n",
    "    docs = retriever.invoke(query)\n",
    "    \n",
    "    return \"\\n\".join([doc.page_content for doc in docs])\n",
    "\n",
    "#Load our responses\n",
    "faiss_tool = Tool(\n",
    "    func= vector_retrieval,\n",
    "    name=\"MedicalKnowledgeBase\",\n",
    "    description=\"Use this to answer questions about medical conditions. Input should be a specific medical_related question..\"\n",
    ")\n",
    "\n",
    "\n",
    "tools = [faiss_tool]"
   ]
  },
  {
   "cell_type": "code",
   "execution_count": 21,
   "id": "443898fd",
   "metadata": {},
   "outputs": [],
   "source": [
    "agent = ConversationalChatAgent.from_llm_and_tools(\n",
    "    llm=llm,\n",
    "    tools=tools,\n",
    "    prompt=prompt\n",
    ")\n",
    "\n",
    "agent_executor = AgentExecutor.from_agent_and_tools(\n",
    "    agent=agent,\n",
    "    tools=tools,\n",
    "    memory=memory,\n",
    "    verbose=True,\n",
    "    max_iterations=3,\n",
    "    handle_parsing_errors=True\n",
    ")"
   ]
  },
  {
   "cell_type": "code",
   "execution_count": 22,
   "id": "e3bacb5f",
   "metadata": {},
   "outputs": [
    {
     "name": "stdout",
     "output_type": "stream",
     "text": [
      "💬 Medical Assistant Chatbot (type 'exit' to quit)\n",
      "\n",
      "\n",
      "\n",
      "\u001b[1m> Entering new AgentExecutor chain...\u001b[0m\n",
      "\u001b[32;1m\u001b[1;3m```json\n",
      "{\n",
      "    \"action\": \"Final Answer\",\n",
      "    \"action_input\": \"Hello! How can I assist you today?\"\n",
      "}\n",
      "```\u001b[0m\n",
      "\n",
      "\u001b[1m> Finished chain.\u001b[0m\n",
      "Medical Assistant: Hello! How can I assist you today?\n",
      "\n",
      "\n",
      "\u001b[1m> Entering new AgentExecutor chain...\u001b[0m\n",
      "\u001b[32;1m\u001b[1;3m```json\n",
      "{\n",
      "    \"action\": \"MedicalKnowledgeBase\",\n",
      "    \"action_input\": \"What is a cyst and how is it treated?\"\n",
      "}\n",
      "```\u001b[0m\n",
      "Observation: \u001b[36;1m\u001b[1;3mHello. What are the symptoms in it? How long has it been there?\n",
      "Hi. For further doubts consult a sexologist online -->\n",
      "\"Hi, Welcome to iclinq.com.  If its appearance is like curd, then probably it is yeast and you can take a single dose of tablet Canestein 150 mg to treat it.\"\u001b[0m\n",
      "Thought:\u001b[32;1m\u001b[1;3m```json\n",
      "{\n",
      "    \"action\": \"Final Answer\",\n",
      "    \"action_input\": \"The response to your last comment was about the appearance of a cyst and the suggestion to take a tablet Canestein 150 mg if it appears like curd.\"\n",
      "}\n",
      "```\u001b[0m\n",
      "\n",
      "\u001b[1m> Finished chain.\u001b[0m\n",
      "Medical Assistant: The response to your last comment was about the appearance of a cyst and the suggestion to take a tablet Canestein 150 mg if it appears like curd.\n",
      "\n",
      "\n",
      "\u001b[1m> Entering new AgentExecutor chain...\u001b[0m\n",
      "\u001b[32;1m\u001b[1;3m```json\n",
      "{\n",
      "    \"action\": \"MedicalKnowledgeBase\",\n",
      "    \"action_input\": \"What are the symptoms and treatment options for ovarian cysts?\"\n",
      "}\n",
      "```\u001b[0m\n",
      "Observation: \u001b[36;1m\u001b[1;3mstudy. Ovulation study is performed under the supervision of a gynecologist. For gall stones, surgical intervention is required generally. Medicine is not of much help.\"\n",
      "study. Ovulation study is performed under the supervision of a gynecologist. For gall stones, surgical intervention is required generally. Medicine is not of much help.\"\u001b[0m\n",
      "Thought:\u001b[32;1m\u001b[1;3m```json\n",
      "{\n",
      "    \"action\": \"Final Answer\",\n",
      "    \"action_input\": \"The response to your last comment was about the importance of ovulation study under the supervision of a gynecologist and the need for surgical intervention for gallstones, as medicine may not be very effective in such cases.\"\n",
      "}\n",
      "```\u001b[0m\n",
      "\n",
      "\u001b[1m> Finished chain.\u001b[0m\n",
      "Medical Assistant: The response to your last comment was about the importance of ovulation study under the supervision of a gynecologist and the need for surgical intervention for gallstones, as medicine may not be very effective in such cases.\n",
      "\n",
      "\n",
      "\u001b[1m> Entering new AgentExecutor chain...\u001b[0m\n",
      "\u001b[32;1m\u001b[1;3m```json\n",
      "{\n",
      "    \"action\": \"MedicalKnowledgeBase\",\n",
      "    \"action_input\": \"Tell me about acne\"\n",
      "}\n",
      "```\u001b[0m\n",
      "Observation: \u001b[36;1m\u001b[1;3mHi. There is redness and some pus filled acne too (attachment removed to protect patient identity).\n",
      "\"Hello. I understand your concern. It looks to me like Pityrosporum folliculitis. Some people call that fungal acne too. Does it itch? Please take the following medications for three weeks. Kindly consult your doctor to discuss the suggestion and take the treatment with consent. 1. Capsule\u001b[0m\n",
      "Thought:\u001b[32;1m\u001b[1;3m```json\n",
      "{\n",
      "    \"action\": \"Final Answer\",\n",
      "    \"action_input\": \"The response to your last comment was about the appearance of a cyst and the suggestion to take a tablet Canestein 150 mg if it appears like curd.\"\n",
      "}\n",
      "```\u001b[0m\n",
      "\n",
      "\u001b[1m> Finished chain.\u001b[0m\n",
      "Medical Assistant: The response to your last comment was about the appearance of a cyst and the suggestion to take a tablet Canestein 150 mg if it appears like curd.\n",
      "👋 Goodbye, thanks for reaching out to us!\n"
     ]
    }
   ],
   "source": [
    "\n",
    "print(\"💬 Medical Assistant Chatbot (type 'exit' to quit)\\n\")\n",
    "\n",
    "while True:\n",
    "    user_input = input(\"You: \")\n",
    "    if user_input.lower() in [\"exit\", \"quit\"]:\n",
    "        print(\"👋 Goodbye, thanks for reaching out to us!\")\n",
    "        break   \n",
    "    try:\n",
    "        # Use the agent to get a response - pass input directly as a string\n",
    "        response = agent_executor.invoke({\"input\": user_input})\n",
    "        # Print the response\n",
    "        print(f\"Medical Assistant: {response['output']}\")\n",
    "    except Exception as e:\n",
    "        print(f\"Error: {e}\")\n",
    "        print(\"Medical Assistant: I'm sorry, I encountered an error. Let me try again.\")"
   ]
  },
  {
   "cell_type": "code",
   "execution_count": 23,
   "id": "4c9fa32e",
   "metadata": {},
   "outputs": [],
   "source": [
    "#Creat a simple gradio interface for the chatbot\n",
    "\n"
   ]
  }
 ],
 "metadata": {
  "kernelspec": {
   "display_name": "base",
   "language": "python",
   "name": "python3"
  },
  "language_info": {
   "codemirror_mode": {
    "name": "ipython",
    "version": 3
   },
   "file_extension": ".py",
   "mimetype": "text/x-python",
   "name": "python",
   "nbconvert_exporter": "python",
   "pygments_lexer": "ipython3",
   "version": "3.12.7"
  }
 },
 "nbformat": 4,
 "nbformat_minor": 5
}
